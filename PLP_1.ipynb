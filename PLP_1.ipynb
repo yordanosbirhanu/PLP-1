{
 "cells": [
  {
   "cell_type": "code",
   "execution_count": 1,
   "id": "f806c704-56ff-454f-a7c3-1d2d26aeede7",
   "metadata": {},
   "outputs": [
    {
     "name": "stdin",
     "output_type": "stream",
     "text": [
      "Enter the first number:  10\n",
      "Enter the second number:  5\n",
      "Enter the operation (+, -, *, /):  +\n"
     ]
    },
    {
     "name": "stdout",
     "output_type": "stream",
     "text": [
      "10.0 + 5.0 = 15.0\n"
     ]
    }
   ],
   "source": [
    "# Basic Calculator Program\n",
    "\n",
    "# Get user inputs\n",
    "num1 = float(input(\"Enter the first number: \"))\n",
    "num2 = float(input(\"Enter the second number: \"))\n",
    "operation = input(\"Enter the operation (+, -, *, /): \")\n",
    "\n",
    "# Perform calculation\n",
    "if operation == \"+\":\n",
    "    result = num1 + num2\n",
    "    print(f\"{num1} + {num2} = {result}\")\n",
    "elif operation == \"-\":\n",
    "    result = num1 - num2\n",
    "    print(f\"{num1} - {num2} = {result}\")\n",
    "elif operation == \"*\":\n",
    "    result = num1 * num2\n",
    "    print(f\"{num1} * {num2} = {result}\")\n",
    "elif operation == \"/\":\n",
    "    if num2 != 0:\n",
    "        result = num1 / num2\n",
    "        print(f\"{num1} / {num2} = {result}\")\n",
    "    else:\n",
    "        print(\"Error: Cannot divide by zero.\")\n",
    "else:\n",
    "    print(\"Invalid operation. Please enter +, -, *, or /.\")\n"
   ]
  },
  {
   "cell_type": "code",
   "execution_count": null,
   "id": "4a7e7032-5b38-4dd4-a69e-1f97d56a8714",
   "metadata": {},
   "outputs": [],
   "source": []
  }
 ],
 "metadata": {
  "kernelspec": {
   "display_name": "Python 3 (ipykernel)",
   "language": "python",
   "name": "python3"
  },
  "language_info": {
   "codemirror_mode": {
    "name": "ipython",
    "version": 3
   },
   "file_extension": ".py",
   "mimetype": "text/x-python",
   "name": "python",
   "nbconvert_exporter": "python",
   "pygments_lexer": "ipython3",
   "version": "3.13.5"
  }
 },
 "nbformat": 4,
 "nbformat_minor": 5
}
